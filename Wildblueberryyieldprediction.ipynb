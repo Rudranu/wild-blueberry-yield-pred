{
 "cells": [
  {
   "cell_type": "code",
   "execution_count": 2,
   "id": "65ce4b28",
   "metadata": {},
   "outputs": [
    {
     "name": "stdout",
     "output_type": "stream",
     "text": [
      "Collecting shap\n",
      "  Downloading shap-0.40.0-cp38-cp38-win_amd64.whl (431 kB)\n",
      "Requirement already satisfied: numba in c:\\users\\dell\\anaconda3\\lib\\site-packages (from shap) (0.53.1)\n",
      "Collecting packaging>20.9\n",
      "  Using cached packaging-21.3-py3-none-any.whl (40 kB)\n",
      "Requirement already satisfied: scipy in c:\\users\\dell\\anaconda3\\lib\\site-packages (from shap) (1.6.2)\n",
      "Requirement already satisfied: pandas in c:\\users\\dell\\anaconda3\\lib\\site-packages (from shap) (1.2.4)\n",
      "Requirement already satisfied: scikit-learn in c:\\users\\dell\\anaconda3\\lib\\site-packages (from shap) (0.24.1)\n",
      "Requirement already satisfied: numpy in c:\\users\\dell\\anaconda3\\lib\\site-packages (from shap) (1.19.5)\n",
      "Requirement already satisfied: cloudpickle in c:\\users\\dell\\anaconda3\\lib\\site-packages (from shap) (1.6.0)\n",
      "Requirement already satisfied: tqdm>4.25.0 in c:\\users\\dell\\anaconda3\\lib\\site-packages (from shap) (4.59.0)\n",
      "Collecting slicer==0.0.7\n",
      "  Downloading slicer-0.0.7-py3-none-any.whl (14 kB)\n",
      "Requirement already satisfied: pyparsing!=3.0.5,>=2.0.2 in c:\\users\\dell\\anaconda3\\lib\\site-packages (from packaging>20.9->shap) (2.4.7)\n",
      "Requirement already satisfied: setuptools in c:\\users\\dell\\anaconda3\\lib\\site-packages (from numba->shap) (52.0.0.post20210125)\n",
      "Requirement already satisfied: llvmlite<0.37,>=0.36.0rc1 in c:\\users\\dell\\anaconda3\\lib\\site-packages (from numba->shap) (0.36.0)\n",
      "Requirement already satisfied: pytz>=2017.3 in c:\\users\\dell\\anaconda3\\lib\\site-packages (from pandas->shap) (2021.1)\n",
      "Requirement already satisfied: python-dateutil>=2.7.3 in c:\\users\\dell\\anaconda3\\lib\\site-packages (from pandas->shap) (2.8.1)\n",
      "Requirement already satisfied: six>=1.5 in c:\\users\\dell\\anaconda3\\lib\\site-packages (from python-dateutil>=2.7.3->pandas->shap) (1.15.0)\n",
      "Requirement already satisfied: threadpoolctl>=2.0.0 in c:\\users\\dell\\anaconda3\\lib\\site-packages (from scikit-learn->shap) (2.1.0)\n",
      "Requirement already satisfied: joblib>=0.11 in c:\\users\\dell\\anaconda3\\lib\\site-packages (from scikit-learn->shap) (1.0.1)\n",
      "Installing collected packages: slicer, packaging, shap\n",
      "  Attempting uninstall: packaging\n",
      "    Found existing installation: packaging 20.9\n",
      "    Uninstalling packaging-20.9:\n",
      "      Successfully uninstalled packaging-20.9\n",
      "Successfully installed packaging-21.3 shap-0.40.0 slicer-0.0.7\n"
     ]
    }
   ],
   "source": [
    "## EDA libraries\n",
    "import numpy as np\n",
    "import pandas as pd\n",
    "import matplotlib.pyplot as plt\n",
    "import seaborn as sns\n",
    "!pip install shap\n",
    "\n",
    "import shap\n",
    "\n",
    "## feature engineering libraries\n",
    "from sklearn.preprocessing import StandardScaler\n",
    "from sklearn.feature_selection import SelectKBest\n",
    "from sklearn.feature_selection import f_regression, mutual_info_regression\n",
    "from sklearn.model_selection import train_test_split\n",
    "\n",
    "## model preparation libraries\n",
    "from sklearn.linear_model import LinearRegression\n",
    "from sklearn.ensemble import RandomForestRegressor\n",
    "from sklearn.tree import DecisionTreeRegressor\n",
    "from xgboost import XGBRegressor\n",
    "\n",
    "## model evaluation libraries\n",
    "from sklearn.metrics import mean_absolute_error\n",
    "from sklearn.metrics import mean_squared_error\n",
    "from sklearn import metrics\n",
    "from sklearn.model_selection import cross_val_score\n",
    "from sklearn.model_selection import RepeatedKFold\n",
    "\n",
    "## model hyperparameter tuning\n",
    "from sklearn.pipeline import Pipeline\n",
    "from sklearn.model_selection import GridSearchCV\n",
    "\n",
    "import joblib\n",
    "%matplotlib inline"
   ]
  },
  {
   "cell_type": "code",
   "execution_count": 3,
   "id": "3d5deaf0",
   "metadata": {},
   "outputs": [
    {
     "data": {
      "text/html": [
       "<div>\n",
       "<style scoped>\n",
       "    .dataframe tbody tr th:only-of-type {\n",
       "        vertical-align: middle;\n",
       "    }\n",
       "\n",
       "    .dataframe tbody tr th {\n",
       "        vertical-align: top;\n",
       "    }\n",
       "\n",
       "    .dataframe thead th {\n",
       "        text-align: right;\n",
       "    }\n",
       "</style>\n",
       "<table border=\"1\" class=\"dataframe\">\n",
       "  <thead>\n",
       "    <tr style=\"text-align: right;\">\n",
       "      <th></th>\n",
       "      <th>Row#</th>\n",
       "      <th>clonesize</th>\n",
       "      <th>honeybee</th>\n",
       "      <th>bumbles</th>\n",
       "      <th>andrena</th>\n",
       "      <th>osmia</th>\n",
       "      <th>MaxOfUpperTRange</th>\n",
       "      <th>MinOfUpperTRange</th>\n",
       "      <th>AverageOfUpperTRange</th>\n",
       "      <th>MaxOfLowerTRange</th>\n",
       "      <th>MinOfLowerTRange</th>\n",
       "      <th>AverageOfLowerTRange</th>\n",
       "      <th>RainingDays</th>\n",
       "      <th>AverageRainingDays</th>\n",
       "      <th>fruitset</th>\n",
       "      <th>fruitmass</th>\n",
       "      <th>seeds</th>\n",
       "      <th>yield</th>\n",
       "    </tr>\n",
       "  </thead>\n",
       "  <tbody>\n",
       "    <tr>\n",
       "      <th>0</th>\n",
       "      <td>0</td>\n",
       "      <td>37.5</td>\n",
       "      <td>0.75</td>\n",
       "      <td>0.25</td>\n",
       "      <td>0.25</td>\n",
       "      <td>0.25</td>\n",
       "      <td>86.0</td>\n",
       "      <td>52.0</td>\n",
       "      <td>71.9</td>\n",
       "      <td>62.0</td>\n",
       "      <td>30.0</td>\n",
       "      <td>50.8</td>\n",
       "      <td>16.0</td>\n",
       "      <td>0.26</td>\n",
       "      <td>0.410652</td>\n",
       "      <td>0.408159</td>\n",
       "      <td>31.678898</td>\n",
       "      <td>3813.165795</td>\n",
       "    </tr>\n",
       "    <tr>\n",
       "      <th>1</th>\n",
       "      <td>1</td>\n",
       "      <td>37.5</td>\n",
       "      <td>0.75</td>\n",
       "      <td>0.25</td>\n",
       "      <td>0.25</td>\n",
       "      <td>0.25</td>\n",
       "      <td>86.0</td>\n",
       "      <td>52.0</td>\n",
       "      <td>71.9</td>\n",
       "      <td>62.0</td>\n",
       "      <td>30.0</td>\n",
       "      <td>50.8</td>\n",
       "      <td>1.0</td>\n",
       "      <td>0.10</td>\n",
       "      <td>0.444254</td>\n",
       "      <td>0.425458</td>\n",
       "      <td>33.449385</td>\n",
       "      <td>4947.605663</td>\n",
       "    </tr>\n",
       "    <tr>\n",
       "      <th>2</th>\n",
       "      <td>2</td>\n",
       "      <td>37.5</td>\n",
       "      <td>0.75</td>\n",
       "      <td>0.25</td>\n",
       "      <td>0.25</td>\n",
       "      <td>0.25</td>\n",
       "      <td>94.6</td>\n",
       "      <td>57.2</td>\n",
       "      <td>79.0</td>\n",
       "      <td>68.2</td>\n",
       "      <td>33.0</td>\n",
       "      <td>55.9</td>\n",
       "      <td>16.0</td>\n",
       "      <td>0.26</td>\n",
       "      <td>0.383787</td>\n",
       "      <td>0.399172</td>\n",
       "      <td>30.546306</td>\n",
       "      <td>3866.798965</td>\n",
       "    </tr>\n",
       "    <tr>\n",
       "      <th>3</th>\n",
       "      <td>3</td>\n",
       "      <td>37.5</td>\n",
       "      <td>0.75</td>\n",
       "      <td>0.25</td>\n",
       "      <td>0.25</td>\n",
       "      <td>0.25</td>\n",
       "      <td>94.6</td>\n",
       "      <td>57.2</td>\n",
       "      <td>79.0</td>\n",
       "      <td>68.2</td>\n",
       "      <td>33.0</td>\n",
       "      <td>55.9</td>\n",
       "      <td>1.0</td>\n",
       "      <td>0.10</td>\n",
       "      <td>0.407564</td>\n",
       "      <td>0.408789</td>\n",
       "      <td>31.562586</td>\n",
       "      <td>4303.943030</td>\n",
       "    </tr>\n",
       "    <tr>\n",
       "      <th>4</th>\n",
       "      <td>4</td>\n",
       "      <td>37.5</td>\n",
       "      <td>0.75</td>\n",
       "      <td>0.25</td>\n",
       "      <td>0.25</td>\n",
       "      <td>0.25</td>\n",
       "      <td>86.0</td>\n",
       "      <td>52.0</td>\n",
       "      <td>71.9</td>\n",
       "      <td>62.0</td>\n",
       "      <td>30.0</td>\n",
       "      <td>50.8</td>\n",
       "      <td>24.0</td>\n",
       "      <td>0.39</td>\n",
       "      <td>0.354413</td>\n",
       "      <td>0.382703</td>\n",
       "      <td>28.873714</td>\n",
       "      <td>3436.493543</td>\n",
       "    </tr>\n",
       "    <tr>\n",
       "      <th>5</th>\n",
       "      <td>5</td>\n",
       "      <td>37.5</td>\n",
       "      <td>0.75</td>\n",
       "      <td>0.25</td>\n",
       "      <td>0.25</td>\n",
       "      <td>0.25</td>\n",
       "      <td>86.0</td>\n",
       "      <td>52.0</td>\n",
       "      <td>71.9</td>\n",
       "      <td>62.0</td>\n",
       "      <td>30.0</td>\n",
       "      <td>50.8</td>\n",
       "      <td>34.0</td>\n",
       "      <td>0.56</td>\n",
       "      <td>0.309669</td>\n",
       "      <td>0.366284</td>\n",
       "      <td>27.345454</td>\n",
       "      <td>2825.003738</td>\n",
       "    </tr>\n",
       "    <tr>\n",
       "      <th>6</th>\n",
       "      <td>6</td>\n",
       "      <td>37.5</td>\n",
       "      <td>0.75</td>\n",
       "      <td>0.25</td>\n",
       "      <td>0.25</td>\n",
       "      <td>0.25</td>\n",
       "      <td>94.6</td>\n",
       "      <td>57.2</td>\n",
       "      <td>79.0</td>\n",
       "      <td>68.2</td>\n",
       "      <td>33.0</td>\n",
       "      <td>55.9</td>\n",
       "      <td>24.0</td>\n",
       "      <td>0.39</td>\n",
       "      <td>0.284443</td>\n",
       "      <td>0.352186</td>\n",
       "      <td>26.101179</td>\n",
       "      <td>2625.269164</td>\n",
       "    </tr>\n",
       "    <tr>\n",
       "      <th>7</th>\n",
       "      <td>7</td>\n",
       "      <td>37.5</td>\n",
       "      <td>0.75</td>\n",
       "      <td>0.25</td>\n",
       "      <td>0.25</td>\n",
       "      <td>0.25</td>\n",
       "      <td>94.6</td>\n",
       "      <td>57.2</td>\n",
       "      <td>79.0</td>\n",
       "      <td>68.2</td>\n",
       "      <td>33.0</td>\n",
       "      <td>55.9</td>\n",
       "      <td>34.0</td>\n",
       "      <td>0.56</td>\n",
       "      <td>0.246568</td>\n",
       "      <td>0.342826</td>\n",
       "      <td>25.042361</td>\n",
       "      <td>2379.905214</td>\n",
       "    </tr>\n",
       "    <tr>\n",
       "      <th>8</th>\n",
       "      <td>8</td>\n",
       "      <td>37.5</td>\n",
       "      <td>0.75</td>\n",
       "      <td>0.25</td>\n",
       "      <td>0.25</td>\n",
       "      <td>0.25</td>\n",
       "      <td>77.4</td>\n",
       "      <td>46.8</td>\n",
       "      <td>64.7</td>\n",
       "      <td>55.8</td>\n",
       "      <td>27.0</td>\n",
       "      <td>45.8</td>\n",
       "      <td>16.0</td>\n",
       "      <td>0.26</td>\n",
       "      <td>0.427977</td>\n",
       "      <td>0.414711</td>\n",
       "      <td>32.334153</td>\n",
       "      <td>4234.868585</td>\n",
       "    </tr>\n",
       "    <tr>\n",
       "      <th>9</th>\n",
       "      <td>9</td>\n",
       "      <td>37.5</td>\n",
       "      <td>0.75</td>\n",
       "      <td>0.25</td>\n",
       "      <td>0.25</td>\n",
       "      <td>0.25</td>\n",
       "      <td>77.4</td>\n",
       "      <td>46.8</td>\n",
       "      <td>64.7</td>\n",
       "      <td>55.8</td>\n",
       "      <td>27.0</td>\n",
       "      <td>45.8</td>\n",
       "      <td>1.0</td>\n",
       "      <td>0.10</td>\n",
       "      <td>0.464366</td>\n",
       "      <td>0.436346</td>\n",
       "      <td>34.849953</td>\n",
       "      <td>5356.871861</td>\n",
       "    </tr>\n",
       "    <tr>\n",
       "      <th>10</th>\n",
       "      <td>10</td>\n",
       "      <td>37.5</td>\n",
       "      <td>0.75</td>\n",
       "      <td>0.25</td>\n",
       "      <td>0.25</td>\n",
       "      <td>0.25</td>\n",
       "      <td>69.7</td>\n",
       "      <td>42.1</td>\n",
       "      <td>58.2</td>\n",
       "      <td>50.2</td>\n",
       "      <td>24.3</td>\n",
       "      <td>41.2</td>\n",
       "      <td>16.0</td>\n",
       "      <td>0.26</td>\n",
       "      <td>0.379906</td>\n",
       "      <td>0.375616</td>\n",
       "      <td>29.078356</td>\n",
       "      <td>4057.555205</td>\n",
       "    </tr>\n",
       "    <tr>\n",
       "      <th>11</th>\n",
       "      <td>11</td>\n",
       "      <td>37.5</td>\n",
       "      <td>0.25</td>\n",
       "      <td>0.25</td>\n",
       "      <td>0.25</td>\n",
       "      <td>0.25</td>\n",
       "      <td>86.0</td>\n",
       "      <td>52.0</td>\n",
       "      <td>71.9</td>\n",
       "      <td>62.0</td>\n",
       "      <td>30.0</td>\n",
       "      <td>50.8</td>\n",
       "      <td>16.0</td>\n",
       "      <td>0.26</td>\n",
       "      <td>0.398977</td>\n",
       "      <td>0.409269</td>\n",
       "      <td>31.597416</td>\n",
       "      <td>3941.255122</td>\n",
       "    </tr>\n",
       "    <tr>\n",
       "      <th>12</th>\n",
       "      <td>12</td>\n",
       "      <td>37.5</td>\n",
       "      <td>0.25</td>\n",
       "      <td>0.25</td>\n",
       "      <td>0.25</td>\n",
       "      <td>0.25</td>\n",
       "      <td>86.0</td>\n",
       "      <td>52.0</td>\n",
       "      <td>71.9</td>\n",
       "      <td>62.0</td>\n",
       "      <td>30.0</td>\n",
       "      <td>50.8</td>\n",
       "      <td>1.0</td>\n",
       "      <td>0.10</td>\n",
       "      <td>0.437375</td>\n",
       "      <td>0.426773</td>\n",
       "      <td>33.532675</td>\n",
       "      <td>4768.594369</td>\n",
       "    </tr>\n",
       "    <tr>\n",
       "      <th>13</th>\n",
       "      <td>13</td>\n",
       "      <td>37.5</td>\n",
       "      <td>0.25</td>\n",
       "      <td>0.25</td>\n",
       "      <td>0.25</td>\n",
       "      <td>0.25</td>\n",
       "      <td>94.6</td>\n",
       "      <td>57.2</td>\n",
       "      <td>79.0</td>\n",
       "      <td>68.2</td>\n",
       "      <td>33.0</td>\n",
       "      <td>55.9</td>\n",
       "      <td>16.0</td>\n",
       "      <td>0.26</td>\n",
       "      <td>0.364881</td>\n",
       "      <td>0.395636</td>\n",
       "      <td>30.124627</td>\n",
       "      <td>3720.711588</td>\n",
       "    </tr>\n",
       "    <tr>\n",
       "      <th>14</th>\n",
       "      <td>14</td>\n",
       "      <td>37.5</td>\n",
       "      <td>0.25</td>\n",
       "      <td>0.25</td>\n",
       "      <td>0.25</td>\n",
       "      <td>0.25</td>\n",
       "      <td>94.6</td>\n",
       "      <td>57.2</td>\n",
       "      <td>79.0</td>\n",
       "      <td>68.2</td>\n",
       "      <td>33.0</td>\n",
       "      <td>55.9</td>\n",
       "      <td>1.0</td>\n",
       "      <td>0.10</td>\n",
       "      <td>0.381314</td>\n",
       "      <td>0.402481</td>\n",
       "      <td>30.793741</td>\n",
       "      <td>3900.344042</td>\n",
       "    </tr>\n",
       "    <tr>\n",
       "      <th>15</th>\n",
       "      <td>15</td>\n",
       "      <td>37.5</td>\n",
       "      <td>0.25</td>\n",
       "      <td>0.25</td>\n",
       "      <td>0.25</td>\n",
       "      <td>0.25</td>\n",
       "      <td>86.0</td>\n",
       "      <td>52.0</td>\n",
       "      <td>71.9</td>\n",
       "      <td>62.0</td>\n",
       "      <td>30.0</td>\n",
       "      <td>50.8</td>\n",
       "      <td>24.0</td>\n",
       "      <td>0.39</td>\n",
       "      <td>0.350137</td>\n",
       "      <td>0.389381</td>\n",
       "      <td>29.550211</td>\n",
       "      <td>3387.785165</td>\n",
       "    </tr>\n",
       "    <tr>\n",
       "      <th>16</th>\n",
       "      <td>16</td>\n",
       "      <td>37.5</td>\n",
       "      <td>0.25</td>\n",
       "      <td>0.25</td>\n",
       "      <td>0.25</td>\n",
       "      <td>0.25</td>\n",
       "      <td>86.0</td>\n",
       "      <td>52.0</td>\n",
       "      <td>71.9</td>\n",
       "      <td>62.0</td>\n",
       "      <td>30.0</td>\n",
       "      <td>50.8</td>\n",
       "      <td>34.0</td>\n",
       "      <td>0.56</td>\n",
       "      <td>0.288159</td>\n",
       "      <td>0.359459</td>\n",
       "      <td>26.487322</td>\n",
       "      <td>2688.028831</td>\n",
       "    </tr>\n",
       "    <tr>\n",
       "      <th>17</th>\n",
       "      <td>17</td>\n",
       "      <td>37.5</td>\n",
       "      <td>0.25</td>\n",
       "      <td>0.25</td>\n",
       "      <td>0.25</td>\n",
       "      <td>0.25</td>\n",
       "      <td>94.6</td>\n",
       "      <td>57.2</td>\n",
       "      <td>79.0</td>\n",
       "      <td>68.2</td>\n",
       "      <td>33.0</td>\n",
       "      <td>55.9</td>\n",
       "      <td>24.0</td>\n",
       "      <td>0.39</td>\n",
       "      <td>0.279536</td>\n",
       "      <td>0.354415</td>\n",
       "      <td>26.282356</td>\n",
       "      <td>2508.375673</td>\n",
       "    </tr>\n",
       "    <tr>\n",
       "      <th>18</th>\n",
       "      <td>18</td>\n",
       "      <td>37.5</td>\n",
       "      <td>0.25</td>\n",
       "      <td>0.25</td>\n",
       "      <td>0.25</td>\n",
       "      <td>0.25</td>\n",
       "      <td>94.6</td>\n",
       "      <td>57.2</td>\n",
       "      <td>79.0</td>\n",
       "      <td>68.2</td>\n",
       "      <td>33.0</td>\n",
       "      <td>55.9</td>\n",
       "      <td>34.0</td>\n",
       "      <td>0.56</td>\n",
       "      <td>0.233554</td>\n",
       "      <td>0.335339</td>\n",
       "      <td>24.320627</td>\n",
       "      <td>1945.530615</td>\n",
       "    </tr>\n",
       "    <tr>\n",
       "      <th>19</th>\n",
       "      <td>19</td>\n",
       "      <td>37.5</td>\n",
       "      <td>0.25</td>\n",
       "      <td>0.25</td>\n",
       "      <td>0.25</td>\n",
       "      <td>0.25</td>\n",
       "      <td>77.4</td>\n",
       "      <td>46.8</td>\n",
       "      <td>64.7</td>\n",
       "      <td>55.8</td>\n",
       "      <td>27.0</td>\n",
       "      <td>45.8</td>\n",
       "      <td>16.0</td>\n",
       "      <td>0.26</td>\n",
       "      <td>0.426228</td>\n",
       "      <td>0.423988</td>\n",
       "      <td>33.299022</td>\n",
       "      <td>4310.625398</td>\n",
       "    </tr>\n",
       "  </tbody>\n",
       "</table>\n",
       "</div>"
      ],
      "text/plain": [
       "    Row#  clonesize  honeybee  bumbles  andrena  osmia  MaxOfUpperTRange  \\\n",
       "0      0       37.5      0.75     0.25     0.25   0.25              86.0   \n",
       "1      1       37.5      0.75     0.25     0.25   0.25              86.0   \n",
       "2      2       37.5      0.75     0.25     0.25   0.25              94.6   \n",
       "3      3       37.5      0.75     0.25     0.25   0.25              94.6   \n",
       "4      4       37.5      0.75     0.25     0.25   0.25              86.0   \n",
       "5      5       37.5      0.75     0.25     0.25   0.25              86.0   \n",
       "6      6       37.5      0.75     0.25     0.25   0.25              94.6   \n",
       "7      7       37.5      0.75     0.25     0.25   0.25              94.6   \n",
       "8      8       37.5      0.75     0.25     0.25   0.25              77.4   \n",
       "9      9       37.5      0.75     0.25     0.25   0.25              77.4   \n",
       "10    10       37.5      0.75     0.25     0.25   0.25              69.7   \n",
       "11    11       37.5      0.25     0.25     0.25   0.25              86.0   \n",
       "12    12       37.5      0.25     0.25     0.25   0.25              86.0   \n",
       "13    13       37.5      0.25     0.25     0.25   0.25              94.6   \n",
       "14    14       37.5      0.25     0.25     0.25   0.25              94.6   \n",
       "15    15       37.5      0.25     0.25     0.25   0.25              86.0   \n",
       "16    16       37.5      0.25     0.25     0.25   0.25              86.0   \n",
       "17    17       37.5      0.25     0.25     0.25   0.25              94.6   \n",
       "18    18       37.5      0.25     0.25     0.25   0.25              94.6   \n",
       "19    19       37.5      0.25     0.25     0.25   0.25              77.4   \n",
       "\n",
       "    MinOfUpperTRange  AverageOfUpperTRange  MaxOfLowerTRange  \\\n",
       "0               52.0                  71.9              62.0   \n",
       "1               52.0                  71.9              62.0   \n",
       "2               57.2                  79.0              68.2   \n",
       "3               57.2                  79.0              68.2   \n",
       "4               52.0                  71.9              62.0   \n",
       "5               52.0                  71.9              62.0   \n",
       "6               57.2                  79.0              68.2   \n",
       "7               57.2                  79.0              68.2   \n",
       "8               46.8                  64.7              55.8   \n",
       "9               46.8                  64.7              55.8   \n",
       "10              42.1                  58.2              50.2   \n",
       "11              52.0                  71.9              62.0   \n",
       "12              52.0                  71.9              62.0   \n",
       "13              57.2                  79.0              68.2   \n",
       "14              57.2                  79.0              68.2   \n",
       "15              52.0                  71.9              62.0   \n",
       "16              52.0                  71.9              62.0   \n",
       "17              57.2                  79.0              68.2   \n",
       "18              57.2                  79.0              68.2   \n",
       "19              46.8                  64.7              55.8   \n",
       "\n",
       "    MinOfLowerTRange  AverageOfLowerTRange  RainingDays  AverageRainingDays  \\\n",
       "0               30.0                  50.8         16.0                0.26   \n",
       "1               30.0                  50.8          1.0                0.10   \n",
       "2               33.0                  55.9         16.0                0.26   \n",
       "3               33.0                  55.9          1.0                0.10   \n",
       "4               30.0                  50.8         24.0                0.39   \n",
       "5               30.0                  50.8         34.0                0.56   \n",
       "6               33.0                  55.9         24.0                0.39   \n",
       "7               33.0                  55.9         34.0                0.56   \n",
       "8               27.0                  45.8         16.0                0.26   \n",
       "9               27.0                  45.8          1.0                0.10   \n",
       "10              24.3                  41.2         16.0                0.26   \n",
       "11              30.0                  50.8         16.0                0.26   \n",
       "12              30.0                  50.8          1.0                0.10   \n",
       "13              33.0                  55.9         16.0                0.26   \n",
       "14              33.0                  55.9          1.0                0.10   \n",
       "15              30.0                  50.8         24.0                0.39   \n",
       "16              30.0                  50.8         34.0                0.56   \n",
       "17              33.0                  55.9         24.0                0.39   \n",
       "18              33.0                  55.9         34.0                0.56   \n",
       "19              27.0                  45.8         16.0                0.26   \n",
       "\n",
       "    fruitset  fruitmass      seeds        yield  \n",
       "0   0.410652   0.408159  31.678898  3813.165795  \n",
       "1   0.444254   0.425458  33.449385  4947.605663  \n",
       "2   0.383787   0.399172  30.546306  3866.798965  \n",
       "3   0.407564   0.408789  31.562586  4303.943030  \n",
       "4   0.354413   0.382703  28.873714  3436.493543  \n",
       "5   0.309669   0.366284  27.345454  2825.003738  \n",
       "6   0.284443   0.352186  26.101179  2625.269164  \n",
       "7   0.246568   0.342826  25.042361  2379.905214  \n",
       "8   0.427977   0.414711  32.334153  4234.868585  \n",
       "9   0.464366   0.436346  34.849953  5356.871861  \n",
       "10  0.379906   0.375616  29.078356  4057.555205  \n",
       "11  0.398977   0.409269  31.597416  3941.255122  \n",
       "12  0.437375   0.426773  33.532675  4768.594369  \n",
       "13  0.364881   0.395636  30.124627  3720.711588  \n",
       "14  0.381314   0.402481  30.793741  3900.344042  \n",
       "15  0.350137   0.389381  29.550211  3387.785165  \n",
       "16  0.288159   0.359459  26.487322  2688.028831  \n",
       "17  0.279536   0.354415  26.282356  2508.375673  \n",
       "18  0.233554   0.335339  24.320627  1945.530615  \n",
       "19  0.426228   0.423988  33.299022  4310.625398  "
      ]
     },
     "execution_count": 3,
     "metadata": {},
     "output_type": "execute_result"
    }
   ],
   "source": [
    "berry_data = pd.read_csv('WildBlueberryPollinationSimulationData.csv')\n",
    "berry_data.head(20)"
   ]
  },
  {
   "cell_type": "code",
   "execution_count": 4,
   "id": "debbf8d3",
   "metadata": {},
   "outputs": [],
   "source": [
    "def select_features_corr_based(X_train, y_train, X_test, x=\"all\"):\n",
    "    if type(x) == str:\n",
    "        fs_corr = SelectKBest(score_func=f_regression, k='all')\n",
    "    else:\n",
    "        fs_corr = SelectKBest(score_func=f_regression, k = x)\n",
    "    fs_corr.fit(X_train, y_train)\n",
    "    X_train_fs = fs_corr.transform(X_train)\n",
    "    X_test_fs = fs_corr.transform(X_test)\n",
    "    \n",
    "    return X_train_fs, X_test_fs, fs_corr\n",
    "\n",
    "def select_features_infogain_based(X_train, y_train, X_test, x=\"all\"):\n",
    "    if type(x) == str:\n",
    "        fs_info = SelectKBest(score_func=mutual_info_regression, k='all')\n",
    "    else:\n",
    "        fs_info = SelectKBest(score_func=mutual_info_regression, k=x)\n",
    "    fs_info.fit(X_train, y_train)\n",
    "    X_train_fs = fs_info.transform(X_train)\n",
    "    X_test_fs = fs_info.transform(X_test)\n",
    "    \n",
    "    return X_train_fs, X_test_fs, fs_info"
   ]
  },
  {
   "cell_type": "code",
   "execution_count": 5,
   "id": "d1a400f3",
   "metadata": {},
   "outputs": [],
   "source": [
    "X13 = berry_data.drop([\"yield\", \"Row#\", \"fruitmass\", \"fruitset\", \"seeds\"], axis=1)\n",
    "y = berry_data[\"yield\"]\n",
    "\n",
    "X_train13, X_test13, y_train13, y_test13 = train_test_split(X13, y, test_size=0.33, random_state=1)\n",
    "\n",
    "X_train_fs_corr13, X_test_fs_corr13, fs_corr13 = select_features_corr_based(X_train13, y_train13, X_test13)\n",
    "X_train_fs_info13, X_test_fs_info13, fs_info13 = select_features_infogain_based(X_train13, y_train13, X_test13)"
   ]
  },
  {
   "cell_type": "code",
   "execution_count": 6,
   "id": "03926c8c",
   "metadata": {},
   "outputs": [],
   "source": [
    "X17 = berry_data.drop([\"yield\", \"Row#\"], axis=1)\n",
    "\n",
    "X_train17, X_test17, y_train17, y_test17 = train_test_split(X17, y, test_size=0.33, random_state=1)\n",
    "\n",
    "X_train_fs_corr17, X_test_fs_corr17, fs_corr17 = select_features_corr_based(X_train17, y_train17, X_test17)\n",
    "X_train_fs_info17, X_test_fs_info17, fs_info17 = select_features_infogain_based(X_train17, y_train17, X_test17)"
   ]
  },
  {
   "cell_type": "code",
   "execution_count": 7,
   "id": "f6050812",
   "metadata": {},
   "outputs": [
    {
     "data": {
      "text/plain": [
       "(777, 18)"
      ]
     },
     "execution_count": 7,
     "metadata": {},
     "output_type": "execute_result"
    }
   ],
   "source": [
    "berry_data.shape"
   ]
  },
  {
   "cell_type": "code",
   "execution_count": 8,
   "id": "b995639e",
   "metadata": {},
   "outputs": [
    {
     "name": "stdout",
     "output_type": "stream",
     "text": [
      "<class 'pandas.core.frame.DataFrame'>\n",
      "RangeIndex: 777 entries, 0 to 776\n",
      "Data columns (total 18 columns):\n",
      " #   Column                Non-Null Count  Dtype  \n",
      "---  ------                --------------  -----  \n",
      " 0   Row#                  777 non-null    int64  \n",
      " 1   clonesize             777 non-null    float64\n",
      " 2   honeybee              777 non-null    float64\n",
      " 3   bumbles               777 non-null    float64\n",
      " 4   andrena               777 non-null    float64\n",
      " 5   osmia                 777 non-null    float64\n",
      " 6   MaxOfUpperTRange      777 non-null    float64\n",
      " 7   MinOfUpperTRange      777 non-null    float64\n",
      " 8   AverageOfUpperTRange  777 non-null    float64\n",
      " 9   MaxOfLowerTRange      777 non-null    float64\n",
      " 10  MinOfLowerTRange      777 non-null    float64\n",
      " 11  AverageOfLowerTRange  777 non-null    float64\n",
      " 12  RainingDays           777 non-null    float64\n",
      " 13  AverageRainingDays    777 non-null    float64\n",
      " 14  fruitset              777 non-null    float64\n",
      " 15  fruitmass             777 non-null    float64\n",
      " 16  seeds                 777 non-null    float64\n",
      " 17  yield                 777 non-null    float64\n",
      "dtypes: float64(17), int64(1)\n",
      "memory usage: 109.4 KB\n"
     ]
    }
   ],
   "source": [
    "berry_data.info();"
   ]
  },
  {
   "cell_type": "code",
   "execution_count": 9,
   "id": "f4a7fb6e",
   "metadata": {},
   "outputs": [
    {
     "data": {
      "image/png": "[encoded data removed]",
      "text/plain": [
       "<Figure size 432x288 with 1 Axes>"
      ]
     },
     "metadata": {
      "needs_background": "light"
     },
     "output_type": "display_data"
    }
   ],
   "source": [
    "plt.grid()\n",
    "plt.title(\"Blueberry Yield continuity curve\")\n",
    "plt.xlabel(\"Yield Value\")\n",
    "plt.hist(x=berry_data[\"yield\"], bins=20, color=\"salmon\");"
   ]
  },
  {
   "cell_type": "code",
   "execution_count": 10,
   "id": "659a8ec7",
   "metadata": {},
   "outputs": [
    {
     "name": "stdout",
     "output_type": "stream",
     "text": [
      "Feature 0: 184.510812\n",
      "Feature 1: 56.025407\n",
      "Feature 2: 56.110457\n",
      "Feature 3: 8.547399\n",
      "Feature 4: 115.949147\n",
      "Feature 5: 10.584235\n",
      "Feature 6: 8.223105\n",
      "Feature 7: 9.465591\n",
      "Feature 8: 10.721786\n",
      "Feature 9: 9.746869\n",
      "Feature 10: 9.334603\n",
      "Feature 11: 207.887147\n",
      "Feature 12: 211.684877\n"
     ]
    },
    {
     "data": {
      "image/png": "[encoded data removed]",
      "text/plain": [
       "<Figure size 432x288 with 1 Axes>"
      ]
     },
     "metadata": {
      "needs_background": "light"
     },
     "output_type": "display_data"
    },
    {
     "name": "stdout",
     "output_type": "stream",
     "text": [
      "Feature 0: 0.141390\n",
      "Feature 1: 0.097496\n",
      "Feature 2: 0.072072\n",
      "Feature 3: 0.052606\n",
      "Feature 4: 0.113073\n",
      "Feature 5: 0.086896\n",
      "Feature 6: 0.089976\n",
      "Feature 7: 0.083165\n",
      "Feature 8: 0.087165\n",
      "Feature 9: 0.083152\n",
      "Feature 10: 0.081977\n",
      "Feature 11: 0.191336\n",
      "Feature 12: 0.191111\n"
     ]
    },
    {
     "data": {
      "image/png": "[encoded data removed]",
      "text/plain": [
       "<Figure size 432x288 with 1 Axes>"
      ]
     },
     "metadata": {
      "needs_background": "light"
     },
     "output_type": "display_data"
    }
   ],
   "source": [
    "def fs_score_plot(fs_func):\n",
    "    \n",
    "    for i in range(len(fs_func.scores_)):\n",
    "        print('Feature %d: %f' % (i, fs_func.scores_[i]))\n",
    "    # plot the scores\n",
    "    plt.bar([i for i in range(len(fs_func.scores_))], fs_func.scores_)\n",
    "    plt.show()\n",
    "    \n",
    "fs_score_plot(fs_corr13)\n",
    "fs_score_plot(fs_info13)"
   ]
  },
  {
   "cell_type": "code",
   "execution_count": 11,
   "id": "86146a46",
   "metadata": {},
   "outputs": [
    {
     "name": "stdout",
     "output_type": "stream",
     "text": [
      "Feature 0: 184.510812\n",
      "Feature 1: 56.025407\n",
      "Feature 2: 56.110457\n",
      "Feature 3: 8.547399\n",
      "Feature 4: 115.949147\n",
      "Feature 5: 10.584235\n",
      "Feature 6: 8.223105\n",
      "Feature 7: 9.465591\n",
      "Feature 8: 10.721786\n",
      "Feature 9: 9.746869\n",
      "Feature 10: 9.334603\n",
      "Feature 11: 207.887147\n",
      "Feature 12: 211.684877\n",
      "Feature 13: 16312.305141\n",
      "Feature 14: 3614.015492\n",
      "Feature 15: 7675.208274\n"
     ]
    },
    {
     "data": {
      "image/png": "[encoded data removed]",
      "text/plain": [
       "<Figure size 432x288 with 1 Axes>"
      ]
     },
     "metadata": {
      "needs_background": "light"
     },
     "output_type": "display_data"
    },
    {
     "name": "stdout",
     "output_type": "stream",
     "text": [
      "Feature 0: 0.141648\n",
      "Feature 1: 0.101178\n",
      "Feature 2: 0.070806\n",
      "Feature 3: 0.051789\n",
      "Feature 4: 0.113152\n",
      "Feature 5: 0.090916\n",
      "Feature 6: 0.086121\n",
      "Feature 7: 0.083058\n",
      "Feature 8: 0.092243\n",
      "Feature 9: 0.084328\n",
      "Feature 10: 0.081889\n",
      "Feature 11: 0.189689\n",
      "Feature 12: 0.193444\n",
      "Feature 13: 1.950900\n",
      "Feature 14: 1.614620\n",
      "Feature 15: 1.636104\n"
     ]
    },
    {
     "data": {
      "image/png": "[encoded data removed]",
      "text/plain": [
       "<Figure size 432x288 with 1 Axes>"
      ]
     },
     "metadata": {
      "needs_background": "light"
     },
     "output_type": "display_data"
    }
   ],
   "source": [
    "fs_score_plot(fs_corr17)\n",
    "fs_score_plot(fs_info17)"
   ]
  },
  {
   "cell_type": "code",
   "execution_count": 12,
   "id": "36e05a9a",
   "metadata": {},
   "outputs": [
    {
     "data": {
      "image/png": "[encoded data removed]",
      "text/plain": [
       "<Figure size 720x504 with 2 Axes>"
      ]
     },
     "metadata": {
      "needs_background": "light"
     },
     "output_type": "display_data"
    }
   ],
   "source": [
    "sc = StandardScaler()\n",
    "fig, (ax1, ax2) = plt.subplots(ncols=2, figsize=(10, 7))\n",
    "ax1.set_title('Before feature Scaling')\n",
    "sns.kdeplot(berry_data[\"AverageOfUpperTRange\"], ax=ax1)\n",
    "sns.kdeplot(berry_data[\"RainingDays\"], ax=ax1)\n",
    "sns.kdeplot(berry_data[\"clonesize\"], ax=ax1)\n",
    "\n",
    "scaled_berry_data = pd.DataFrame(sc.fit_transform(berry_data), columns=berry_data.columns)\n",
    "ax2.set_title('After feature Scaling')\n",
    "sns.kdeplot(scaled_berry_data[\"AverageOfUpperTRange\"], ax=ax2)\n",
    "sns.kdeplot(scaled_berry_data[\"RainingDays\"], ax=ax2)\n",
    "sns.kdeplot(scaled_berry_data[\"clonesize\"], ax=ax2)\n",
    "plt.show()"
   ]
  },
  {
   "cell_type": "code",
   "execution_count": 13,
   "id": "6186dc73",
   "metadata": {},
   "outputs": [
    {
     "data": {
      "text/plain": [
       "<matplotlib.collections.PathCollection at 0x1cd122099d0>"
      ]
     },
     "execution_count": 13,
     "metadata": {},
     "output_type": "execute_result"
    },
    {
     "data": {
      "image/png": "[encoded data removed]",
      "text/plain": [
       "<Figure size 432x288 with 1 Axes>"
      ]
     },
     "metadata": {
      "needs_background": "light"
     },
     "output_type": "display_data"
    }
   ],
   "source": [
    "plt.scatter(x = berry_data[\"yield\"], y= berry_data[\"honeybee\"])"
   ]
  },
  {
   "cell_type": "code",
   "execution_count": 14,
   "id": "b762f54e",
   "metadata": {},
   "outputs": [
    {
     "data": {
      "text/plain": [
       "(520, 10)"
      ]
     },
     "execution_count": 14,
     "metadata": {},
     "output_type": "execute_result"
    }
   ],
   "source": [
    "X_train13 = sc.fit_transform(X_train13)\n",
    "X_train17 = sc.fit_transform(X_train17)\n",
    "X_test13 = sc.fit_transform(X_test13)\n",
    "X_test17 = sc.fit_transform(X_test17);\n",
    "\n",
    "X_train_fs_info13, X_test_fs_info13, fs_info13 = select_features_infogain_based(X_train13, y_train13, X_test13, x=10)\n",
    "X_train_fs_info17, X_test_fs_info17, fs_info17 = select_features_infogain_based(X_train17, y_train17, X_test17, x=10)\n",
    "\n",
    "X_train_fs_info13.shape"
   ]
  },
  {
   "cell_type": "code",
   "execution_count": 15,
   "id": "de512f3b",
   "metadata": {},
   "outputs": [],
   "source": [
    "lreg = LinearRegression()\n",
    "\n",
    "lreg.fit(X_train_fs_info13, y_train13)\n",
    "\n",
    "yhat13 = lreg.predict(X_test_fs_info13)"
   ]
  },
  {
   "cell_type": "code",
   "execution_count": 16,
   "id": "0426e2b4",
   "metadata": {},
   "outputs": [
    {
     "name": "stdout",
     "output_type": "stream",
     "text": [
      "MAE: 562.959\n",
      "MSE: 603855.975\n",
      "RMSE: 777.082\n"
     ]
    }
   ],
   "source": [
    "mae13_linear = mean_absolute_error(y_test13, yhat13)\n",
    "mse13_linear = mean_squared_error(y_test13, yhat13)\n",
    "rmse13_linear = np.sqrt(mse13_linear)\n",
    "\n",
    "print('MAE: %.3f' % mae13_linear)\n",
    "print('MSE: %.3f' % mse13_linear)\n",
    "print('RMSE: %.3f' % rmse13_linear)"
   ]
  },
  {
   "cell_type": "code",
   "execution_count": 17,
   "id": "704495c8",
   "metadata": {},
   "outputs": [],
   "source": [
    "lreg.fit(X_train_fs_info17, y_train17)\n",
    "\n",
    "yhat17 = lreg.predict(X_test_fs_info17)"
   ]
  },
  {
   "cell_type": "code",
   "execution_count": 18,
   "id": "156c3221",
   "metadata": {},
   "outputs": [
    {
     "name": "stdout",
     "output_type": "stream",
     "text": [
      "MAE: 150.329\n",
      "MSE: 35217.977\n",
      "RMSE: 187.665\n"
     ]
    }
   ],
   "source": [
    "\n",
    "mae17_linear = mean_absolute_error(y_test17, yhat17)\n",
    "mse17_linear = mean_squared_error(y_test17, yhat17)\n",
    "rmse17_linear = np.sqrt(mse17_linear)\n",
    "\n",
    "print('MAE: %.3f' % mae17_linear)\n",
    "print('MSE: %.3f' % mse17_linear)\n",
    "print('RMSE: %.3f' % rmse17_linear)"
   ]
  },
  {
   "cell_type": "code",
   "execution_count": 19,
   "id": "0c91eed1",
   "metadata": {},
   "outputs": [],
   "source": [
    "rf = RandomForestRegressor()\n",
    "\n",
    "rf.fit(X_train_fs_info13, y_train13)\n",
    "    \n",
    "yhat13 = rf.predict(X_test_fs_info13)"
   ]
  },
  {
   "cell_type": "code",
   "execution_count": 20,
   "id": "dd48a566",
   "metadata": {},
   "outputs": [
    {
     "name": "stdout",
     "output_type": "stream",
     "text": [
      "MAE: 387.261\n",
      "MSE: 251865.135\n",
      "RMSE: 501.862\n"
     ]
    }
   ],
   "source": [
    "mae13_rf = mean_absolute_error(y_test13, yhat13)\n",
    "mse13_rf = mean_squared_error(y_test13, yhat13)\n",
    "rmse13_rf = np.sqrt(mse13_rf)\n",
    "\n",
    "print('MAE: %.3f' % mae13_rf)\n",
    "print('MSE: %.3f' % mse13_rf)\n",
    "print('RMSE: %.3f' % rmse13_rf)"
   ]
  },
  {
   "cell_type": "code",
   "execution_count": 21,
   "id": "6b639429",
   "metadata": {},
   "outputs": [],
   "source": [
    "rf.fit(X_train_fs_info17, y_train17)\n",
    "\n",
    "yhat17 = rf.predict(X_test_fs_info17)"
   ]
  },
  {
   "cell_type": "code",
   "execution_count": 22,
   "id": "7094424f",
   "metadata": {},
   "outputs": [
    {
     "name": "stdout",
     "output_type": "stream",
     "text": [
      "MAE: 147.664\n",
      "MSE: 44162.537\n",
      "RMSE: 210.149\n"
     ]
    }
   ],
   "source": [
    "mae17_rf = mean_absolute_error(y_test17, yhat17)\n",
    "mse17_rf = mean_squared_error(y_test17, yhat17)\n",
    "rmse17_rf = np.sqrt(mse17_rf)\n",
    "\n",
    "print('MAE: %.3f' % mae17_rf)\n",
    "print('MSE: %.3f' % mse17_rf)\n",
    "print('RMSE: %.3f' % rmse17_rf)"
   ]
  },
  {
   "cell_type": "code",
   "execution_count": 23,
   "id": "45d8b175",
   "metadata": {},
   "outputs": [],
   "source": [
    "dtree = DecisionTreeRegressor()\n",
    "\n",
    "dtree.fit(X_train_fs_info13, y_train13)\n",
    "\n",
    "yhat13 = dtree.predict(X_test_fs_info13)"
   ]
  },
  {
   "cell_type": "code",
   "execution_count": 24,
   "id": "24cfb42e",
   "metadata": {},
   "outputs": [
    {
     "name": "stdout",
     "output_type": "stream",
     "text": [
      "MAE: 401.707\n",
      "MSE: 270538.880\n",
      "RMSE: 520.134\n"
     ]
    }
   ],
   "source": [
    "mae13_dtree = mean_absolute_error(y_test13, yhat13)\n",
    "mse13_dtree = mean_squared_error(y_test13, yhat13)\n",
    "rmse13_dtree = np.sqrt(mse13_dtree)\n",
    "\n",
    "print('MAE: %.3f' % mae13_dtree)\n",
    "print('MSE: %.3f' % mse13_dtree)\n",
    "print('RMSE: %.3f' % rmse13_dtree)"
   ]
  },
  {
   "cell_type": "code",
   "execution_count": 25,
   "id": "52976164",
   "metadata": {},
   "outputs": [],
   "source": [
    "dtree.fit(X_train_fs_info17, y_train17)\n",
    "\n",
    "yhat17 = dtree.predict(X_test_fs_info17)"
   ]
  },
  {
   "cell_type": "code",
   "execution_count": 26,
   "id": "e81fe779",
   "metadata": {},
   "outputs": [
    {
     "name": "stdout",
     "output_type": "stream",
     "text": [
      "MAE: 174.549\n",
      "MSE: 60107.342\n",
      "RMSE: 245.168\n"
     ]
    }
   ],
   "source": [
    "mae17_dtree = mean_absolute_error(y_test17, yhat17)\n",
    "mse17_dtree = mean_squared_error(y_test17, yhat17)\n",
    "rmse17_dtree = np.sqrt(mse17_dtree)\n",
    "\n",
    "print('MAE: %.3f' % mae17_dtree)\n",
    "print('MSE: %.3f' % mse17_dtree)\n",
    "print('RMSE: %.3f' % rmse17_dtree)"
   ]
  },
  {
   "cell_type": "code",
   "execution_count": 27,
   "id": "e5ac0b97",
   "metadata": {},
   "outputs": [],
   "source": [
    "xgb = XGBRegressor()\n",
    "\n",
    "xgb.fit(X_train_fs_info13, y_train13)\n",
    "\n",
    "yhat13 = xgb.predict(X_test_fs_info13)"
   ]
  },
  {
   "cell_type": "code",
   "execution_count": 28,
   "id": "06057599",
   "metadata": {},
   "outputs": [
    {
     "name": "stdout",
     "output_type": "stream",
     "text": [
      "MAE: 374.147\n",
      "MSE: 228185.676\n",
      "RMSE: 477.688\n"
     ]
    }
   ],
   "source": [
    "mae13_xgb = mean_absolute_error(y_test13, yhat13)\n",
    "mse13_xgb = mean_squared_error(y_test13, yhat13)\n",
    "rmse13_xgb = np.sqrt(mse13_xgb)\n",
    "\n",
    "print('MAE: %.3f' % mae13_xgb)\n",
    "print('MSE: %.3f' % mse13_xgb)\n",
    "print('RMSE: %.3f' % rmse13_xgb)"
   ]
  },
  {
   "cell_type": "code",
   "execution_count": 29,
   "id": "0c166620",
   "metadata": {},
   "outputs": [],
   "source": [
    "xgb.fit(X_train_fs_info17, y_train17)\n",
    "\n",
    "yhat17 = xgb.predict(X_test_fs_info17)"
   ]
  },
  {
   "cell_type": "code",
   "execution_count": 30,
   "id": "ef2c2c54",
   "metadata": {},
   "outputs": [
    {
     "name": "stdout",
     "output_type": "stream",
     "text": [
      "MAE: 145.976\n",
      "MSE: 42165.763\n",
      "RMSE: 205.343\n"
     ]
    }
   ],
   "source": [
    "mae17_xgb = mean_absolute_error(y_test17, yhat17)\n",
    "mse17_xgb = mean_squared_error(y_test17, yhat17)\n",
    "rmse17_xgb = np.sqrt(mse17_xgb)\n",
    "\n",
    "print('MAE: %.3f' % mae17_xgb)\n",
    "print('MSE: %.3f' % mse17_xgb)\n",
    "print('RMSE: %.3f' % rmse17_xgb)"
   ]
  },
  {
   "cell_type": "code",
   "execution_count": 31,
   "id": "8b6082d4",
   "metadata": {},
   "outputs": [
    {
     "data": {
      "image/png": "[encoded data removed]",
      "text/plain": [
       "<Figure size 432x288 with 1 Axes>"
      ]
     },
     "metadata": {
      "needs_background": "light"
     },
     "output_type": "display_data"
    }
   ],
   "source": [
    "error_rec = {\n",
    "    \"linearreg\": {\n",
    "        \"mae\": mae17_linear,\n",
    "        \"rmse\": rmse17_linear\n",
    "    },\n",
    "    \"randomforest\": {\n",
    "        \"mae\": mae17_rf,\n",
    "        \"rmse\": rmse17_rf\n",
    "    },\n",
    "    \"decisiontree\": {\n",
    "        \"mae\": mae17_dtree,\n",
    "        \"rmse\": rmse17_dtree\n",
    "    },\n",
    "    \"xgboost\": {\n",
    "        \"mae\": mae17_xgb,\n",
    "        \"rmse\": rmse17_xgb\n",
    "    },\n",
    "}\n",
    "pd.DataFrame(error_rec).plot(kind=\"bar\", \n",
    "             color=[\n",
    "                 sns.color_palette(\"pastel\")[0], \n",
    "                 sns.color_palette(\"pastel\")[1], \n",
    "                 sns.color_palette(\"pastel\")[2], \n",
    "                 sns.color_palette(\"pastel\")[3]]);"
   ]
  },
  {
   "cell_type": "code",
   "execution_count": 32,
   "id": "d14660bd",
   "metadata": {},
   "outputs": [],
   "source": [
    "cv = RepeatedKFold(n_splits= 78,n_repeats = 3,random_state = 1)\n",
    "fs_info_v0 = SelectKBest(score_func = mutual_info_regression)\n",
    "\n",
    "# y_test17, yhat17, X_train_fs_info13, y_train13, X_test_fs_info13 (basic models)\n",
    "# \n",
    "# define pipeline for each algorithm\n",
    "# define GSCV for each\n",
    "# loop through it\n",
    "\n",
    "\n",
    "pipe_lr = Pipeline([\n",
    "    ('sel', fs_info_v0), \n",
    "    ('model', LinearRegression())\n",
    "])\n",
    "\n",
    "pipe_rf = Pipeline([\n",
    "    ('sel', fs_info_v0), \n",
    "    ('model', RandomForestRegressor(random_state=1))\n",
    "])\n",
    "\n",
    "pipe_dtree = Pipeline([\n",
    "    ('sel', fs_info_v0), \n",
    "    ('model', DecisionTreeRegressor(random_state=1))\n",
    "])\n",
    "\n",
    "pipe_xgb = Pipeline([\n",
    "    ('sel', fs_info_v0), \n",
    "    ('model', XGBRegressor(random_state=1))\n",
    "])\n"
   ]
  },
  {
   "cell_type": "code",
   "execution_count": 33,
   "id": "bbfdb613",
   "metadata": {},
   "outputs": [],
   "source": [
    "param_range = [15, 18, 10]\n",
    "param_range_fl = [5.0, 10.0]\n",
    "\n",
    "grid_params_lr = [{'sel__k': [i for i in range(X_train17.shape[1]-6, X_train17.shape[1]-4)],\n",
    "        }] \n",
    "\n",
    "\n",
    "grid_params_rf = [{'sel__k': [i for i in range(X_train17.shape[1]-6, X_train17.shape[1]-4)],\n",
    "        'model__criterion': ['mse', 'mae'],\n",
    "#         'model__max_depth': param_range,\n",
    "#         'model__min_samples_split': param_range[1:]\n",
    "                  }]\n",
    "\n",
    "\n",
    "grid_params_dtree = [{'sel__k': [i for i in range(X_train17.shape[1]-6, X_train17.shape[1]-4)],\n",
    "                    'model__criterion': ['mse', 'mae'],\n",
    "#                      'model__max_depth': param_range,\n",
    "#                      'model__max_features': ['auto', 'sqrt']\n",
    "                     }]\n",
    "\n",
    "\n",
    "grid_params_xgb = [{'sel__k': [i for i in range(X_train17.shape[1]-6, X_train17.shape[1]-4)],\n",
    "#                     'model__max_depth': [9,12],\n",
    "#                    'model__min_child_weight': [7,8],\n",
    "                   'model__subsample': [i/10. for i in range(9,11)]\n",
    "                   }]\n",
    "\n",
    "\n",
    "\n",
    "LR = GridSearchCV(estimator=pipe_lr,\n",
    "            param_grid=grid_params_lr,\n",
    "            scoring='neg_mean_absolute_error',\n",
    "            cv=cv)\n",
    "\n",
    "RF = GridSearchCV(estimator=pipe_rf,\n",
    "            param_grid=grid_params_rf,\n",
    "            scoring='neg_mean_absolute_error',\n",
    "            cv=cv, \n",
    "            n_jobs= -1)\n",
    "\n",
    "DT = GridSearchCV(estimator=pipe_dtree,\n",
    "            param_grid=grid_params_dtree,\n",
    "            scoring='neg_mean_absolute_error',\n",
    "            cv=cv, \n",
    "            n_jobs= -1)\n",
    "\n",
    "XGB = GridSearchCV(estimator=pipe_xgb,\n",
    "            param_grid=grid_params_xgb,\n",
    "            scoring='neg_mean_absolute_error',\n",
    "            cv=cv, \n",
    "            n_jobs= -1)\n",
    "\n",
    "grids = [LR,RF,XGB,DT]\n",
    "\n",
    "k# Creating a dict for our reference\n",
    "grid_dict = {0: 'Logistic Regression', \n",
    "        1: 'Random Forest',\n",
    "        2: 'XGBoost',\n",
    "        3: 'Decision Tree'}\n"
   ]
  },
  {
   "cell_type": "code",
   "execution_count": 34,
   "id": "d3253222",
   "metadata": {},
   "outputs": [],
   "source": [
    "# Start form initial scaled model: X_train17 and X_test17, y_train17 and y_test17\n",
    "def extract_best_model(grids: list, grid_dict: dict):\n",
    "    print('Performing model optimizations...')\n",
    "    least_mae = 270817\n",
    "    best_regr = 0\n",
    "    best_gs = ''\n",
    "    for idx, gs in enumerate(grids):\n",
    "        print('\\nEstimator: %s' % grid_dict[idx])\n",
    "        gs.fit(X_train17, y_train17)\n",
    "        print('Best Config: %s' % gs.best_params_)\n",
    "        # Best training data accuracy\n",
    "        print('Best MAE: %.3f' % gs.best_score_)\n",
    "        # Predict on test data with best params\n",
    "        y_pred_v0 = gs.predict(X_test17)\n",
    "        # Test data accuracy of model with best params\n",
    "        print('Test set mean absolute error for best params: %.3f ' % mean_absolute_error(y_test17, y_pred_v0))\n",
    "        print('Test set root mean squared error for best params: %.3f ' % np.sqrt(mean_absolute_error(y_test17, y_pred_v0)))\n",
    "        \n",
    "        # Track best (least test error) model\n",
    "        if mean_absolute_error(y_test17, y_pred_v0) < least_mae:\n",
    "            least_mae = mean_absolute_error(y_test17, y_pred_v0)\n",
    "            best_gs = gs\n",
    "            best_regr = idx\n",
    "    print('\\nClassifier with least test set MAE: %s' % grid_dict[best_regr])\n",
    "\n",
    "    ## Save best grid search pipeline to file\n",
    "    # dump_file = 'best_grid_search_pipeline.pkl'\n",
    "    # joblib.dump(best_gs, dump_file, compress=1)\n",
    "    # print('\\nSaved %s grid search pipeline to file: %s' % (grid_dict[best_regr], dump_file))\n",
    "    \n",
    "    ########### summarize all values of parameters (uncomment only if nescessary)\n",
    "    ######### means = results.cv_results_['mean_test_score']\n",
    "    ######## params = results.cv_results_['params']\n",
    "    ####### for mean, param in zip(means, params):\n",
    "    ###### print(\">%.3f with: %r\" % (mean, param))\n",
    "    \n",
    "    return (grid_dict[best_regr], best_gs, least_mae)"
   ]
  },
  {
   "cell_type": "code",
   "execution_count": 35,
   "id": "21d5d745",
   "metadata": {},
   "outputs": [
    {
     "name": "stdout",
     "output_type": "stream",
     "text": [
      "Performing model optimizations...\n",
      "\n",
      "Estimator: Logistic Regression\n",
      "Best Config: {'sel__k': 11}\n",
      "Best MAE: -101.258\n",
      "Test set mean absolute error for best params: 172.887 \n",
      "Test set root mean squared error for best params: 13.149 \n",
      "\n",
      "Estimator: Random Forest\n",
      "Best Config: {'model__criterion': 'mse', 'sel__k': 11}\n",
      "Best MAE: -122.257\n",
      "Test set mean absolute error for best params: 146.888 \n",
      "Test set root mean squared error for best params: 12.120 \n",
      "\n",
      "Estimator: XGBoost\n",
      "Best Config: {'model__subsample': 0.9, 'sel__k': 11}\n",
      "Best MAE: -124.013\n",
      "Test set mean absolute error for best params: 135.957 \n",
      "Test set root mean squared error for best params: 11.660 \n",
      "\n",
      "Estimator: Decision Tree\n",
      "Best Config: {'model__criterion': 'mae', 'sel__k': 10}\n",
      "Best MAE: -162.174\n",
      "Test set mean absolute error for best params: 179.687 \n",
      "Test set root mean squared error for best params: 13.405 \n",
      "\n",
      "Classifier with least test set MAE: XGBoost\n",
      "Best Model: XGBoost\n",
      "Error Rate: 135.95669985177528\n",
      "GridSearchCV(cv=RepeatedKFold(n_repeats=3, n_splits=78, random_state=1),\n",
      "             estimator=Pipeline(steps=[('sel',\n",
      "                                        SelectKBest(score_func=<function mutual_info_regression at 0x000001CD11D01040>)),\n",
      "                                       ('model',\n",
      "                                        XGBRegressor(base_score=None,\n",
      "                                                     booster=None,\n",
      "                                                     colsample_bylevel=None,\n",
      "                                                     colsample_bynode=None,\n",
      "                                                     colsample_bytree=None,\n",
      "                                                     gamma=None, gpu_id=None,\n",
      "                                                     importance_type='gain',\n",
      "                                                     inter...\n",
      "                                                     min_child_weight=None,\n",
      "                                                     missing=nan,\n",
      "                                                     monotone_constraints=None,\n",
      "                                                     n_estimators=100,\n",
      "                                                     n_jobs=None,\n",
      "                                                     num_parallel_tree=None,\n",
      "                                                     random_state=1,\n",
      "                                                     reg_alpha=None,\n",
      "                                                     reg_lambda=None,\n",
      "                                                     scale_pos_weight=None,\n",
      "                                                     subsample=None,\n",
      "                                                     tree_method=None,\n",
      "                                                     validate_parameters=None,\n",
      "                                                     verbosity=None))]),\n",
      "             n_jobs=-1,\n",
      "             param_grid=[{'model__subsample': [0.9, 1.0], 'sel__k': [10, 11]}],\n",
      "             scoring='neg_mean_absolute_error')\n"
     ]
    }
   ],
   "source": [
    "best_model_name_v0, best_model_v0, least_mae_v0 = extract_best_model(grids= grids, grid_dict = grid_dict)\n",
    "\n",
    "print(f\"Best Model: {best_model_name_v0}\")\n",
    "print(f\"Error Rate: {least_mae_v0}\")\n",
    "print(best_model_v0)"
   ]
  },
  {
   "cell_type": "code",
   "execution_count": 36,
   "id": "68fa4b14",
   "metadata": {},
   "outputs": [
    {
     "name": "stdout",
     "output_type": "stream",
     "text": [
      "Random Forest V-1 optimising...\n",
      "Best Config: {'model__max_depth': 15, 'model__min_samples_split': 2}\n",
      "Best MAE: -122.259\n",
      "Test set mean absolute error for best params: 146.849 \n",
      "Test set root mean squared error for best params: 12.118 \n"
     ]
    }
   ],
   "source": [
    "grid_params_rf1 = [{\n",
    "        'model__max_depth': param_range,\n",
    "        'model__min_samples_split': [2,5]\n",
    "                  }]\n",
    "\n",
    "RF1 = GridSearchCV(\n",
    "    estimator = Pipeline([\n",
    "                    ('sel', SelectKBest(score_func=mutual_info_regression, k=11)), \n",
    "                    ('model', RandomForestRegressor(random_state=1, criterion='mse'))\n",
    "                ]),\n",
    "            param_grid=grid_params_rf1,\n",
    "            scoring='neg_mean_absolute_error',\n",
    "            cv=cv, \n",
    "            n_jobs= -1)\n",
    "\n",
    "\n",
    "print(\"Random Forest V-1 optimising...\")\n",
    "RF1.fit(X_train17, y_train17)\n",
    "print('Best Config: %s' % RF1.best_params_)\n",
    "print('Best MAE: %.3f' % RF1.best_score_)\n",
    "y_pred_v1_rf1 = RF1.predict(X_test17)\n",
    "print('Test set mean absolute error for best params: %.3f ' % mean_absolute_error(y_test17, y_pred_v1_rf1))\n",
    "print('Test set root mean squared error for best params: %.3f ' % np.sqrt(mean_absolute_error(y_test17, y_pred_v1_rf1)))\n",
    "        "
   ]
  },
  {
   "cell_type": "code",
   "execution_count": 37,
   "id": "8fe0322e",
   "metadata": {},
   "outputs": [
    {
     "data": {
      "image/png": "[encoded data removed]",
      "text/plain": [
       "<Figure size 432x288 with 1 Axes>"
      ]
     },
     "metadata": {
      "needs_background": "light"
     },
     "output_type": "display_data"
    }
   ],
   "source": [
    "error_rec_tune = {\n",
    "    \"linearreg\": {\n",
    "        \"mae\": mae17_linear,\n",
    "        \"rmse\": rmse17_linear,\n",
    "        'mae1': 172.887 ,\n",
    "        'rmse1': 13.149\n",
    "    },\n",
    "    \"randomforest\": {\n",
    "        \"mae\": mae17_rf,\n",
    "        \"rmse\": rmse17_rf,\n",
    "        'mae1': 145.969,\n",
    "        'rmse1': 12.085 \n",
    "    },\n",
    "    \"decisiontree\": {\n",
    "        \"mae\": mae17_dtree,\n",
    "        \"rmse\": rmse17_dtree,\n",
    "        'mae1': 179.687 ,\n",
    "        'rmse1': 13.405 \n",
    "    },\n",
    "    \"xgboost\": {\n",
    "        \"mae\": mae17_xgb,\n",
    "        \"rmse\": rmse17_xgb,\n",
    "        'mae1': 138.506 ,\n",
    "        'rmse1': 11.769 \n",
    "    },\n",
    "}\n",
    "\n",
    "pd.DataFrame(error_rec_tune).plot(kind=\"bar\", \n",
    "             color=[\n",
    "                 sns.color_palette(\"pastel\")[0], \n",
    "                 sns.color_palette(\"pastel\")[1], \n",
    "                 sns.color_palette(\"pastel\")[2], \n",
    "                 sns.color_palette(\"pastel\")[3]]);"
   ]
  },
  {
   "cell_type": "code",
   "execution_count": 38,
   "id": "46ac8c57",
   "metadata": {},
   "outputs": [
    {
     "name": "stdout",
     "output_type": "stream",
     "text": [
      "\n",
      "Saved XGBoost tuned model to directory by name: xgboost_blueberry_pollination_tuned_model.pkl\n",
      "\n",
      "Saved Random Forest tuned model to directory by name: randomforest_blueberry_pollination_tuned_model.pkl\n"
     ]
    }
   ],
   "source": [
    "# Save best grid search pipeline to file\n",
    "dump_file_name = 'xgboost_blueberry_pollination_tuned_model.pkl'\n",
    "joblib.dump(best_model_v0, dump_file_name, compress=1)\n",
    "print('\\nSaved %s tuned model to directory by name: %s' % (best_model_name_v0, dump_file_name))\n",
    "    \n",
    "# Save the random forest grid search pipleline for backup\n",
    "dump_file_name1 = 'randomforest_blueberry_pollination_tuned_model.pkl'\n",
    "joblib.dump(RF1, dump_file_name1, compress=1)\n",
    "print('\\nSaved %s tuned model to directory by name: %s' % (\"Random Forest\", dump_file_name1))"
   ]
  },
  {
   "cell_type": "code",
   "execution_count": null,
   "id": "cbe31b4f",
   "metadata": {},
   "outputs": [],
   "source": [
    "\n"
   ]
  }
 ],
 "metadata": {
  "kernelspec": {
   "display_name": "Python 3",
   "language": "python",
   "name": "python3"
  },
  "language_info": {
   "codemirror_mode": {
    "name": "ipython",
    "version": 3
   },
   "file_extension": ".py",
   "mimetype": "text/x-python",
   "name": "python",
   "nbconvert_exporter": "python",
   "pygments_lexer": "ipython3",
   "version": "3.8.8"
  }
 },
 "nbformat": 4,
 "nbformat_minor": 5
}
